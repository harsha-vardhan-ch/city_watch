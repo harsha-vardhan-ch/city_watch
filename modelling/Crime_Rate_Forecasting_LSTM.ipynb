{
  "nbformat": 4,
  "nbformat_minor": 0,
  "metadata": {
    "colab": {
      "provenance": [],
      "mount_file_id": "1H1-kOO3VN-5PsQGqRHu0jIOUV3mn4GOJ",
      "authorship_tag": "ABX9TyPJ4quUR+W+qkB3PuY4wKEG",
      "include_colab_link": true
    },
    "kernelspec": {
      "name": "python3",
      "display_name": "Python 3"
    },
    "language_info": {
      "name": "python"
    },
    "accelerator": "GPU",
    "gpuClass": "standard"
  },
  "cells": [
    {
      "cell_type": "markdown",
      "metadata": {
        "id": "view-in-github",
        "colab_type": "text"
      },
      "source": [
        "<a href=\"https://colab.research.google.com/github/harshakoneru98/city_watch/blob/main/modelling/Crime_Rate_Forecasting_LSTM.ipynb\" target=\"_parent\"><img src=\"https://colab.research.google.com/assets/colab-badge.svg\" alt=\"Open In Colab\"/></a>"
      ]
    },
    {
      "cell_type": "code",
      "execution_count": 87,
      "metadata": {
        "id": "NGmXHEXdEc7C"
      },
      "outputs": [],
      "source": [
        "import pandas as pd\n",
        "import json\n",
        "import tqdm\n",
        "import seaborn as sns\n",
        "import numpy as np\n",
        "import datetime\n",
        "import tqdm\n",
        "from sklearn.preprocessing import MinMaxScaler\n",
        "from keras.layers import LSTM, Dense\n",
        "from keras.models import Sequential\n",
        "from keras.callbacks import EarlyStopping\n",
        "from keras.optimizers import Adam\n",
        "ROOT_PATH = \"/content/drive/MyDrive/DSCI 560/Datasets/Cleaned_data/\""
      ]
    },
    {
      "cell_type": "code",
      "source": [
        "crimes = pd.read_csv(f\"{ROOT_PATH}/crime_date_aligned.csv\")\n",
        "crime_by_date_zipcode = crimes.groupby([\"date_occ\", \"zip_code\"]).agg({ \"dr_no\": \"count\"}).reset_index()"
      ],
      "metadata": {
        "id": "uBsiPnFZUgqu"
      },
      "execution_count": 17,
      "outputs": []
    },
    {
      "cell_type": "code",
      "source": [
        "# Convert the 'date' column to datetime format\n",
        "crime_by_date_zipcode['date'] = pd.to_datetime(crime_by_date_zipcode['date_occ'])\n",
        "\n",
        "# Create a new column for the day of the week\n",
        "crime_by_date_zipcode['day_of_week'] = crime_by_date_zipcode['date'].dt.dayofweek\n",
        "\n",
        "# Create a new column for the week of the year\n",
        "crime_by_date_zipcode['week_of_year'] = crime_by_date_zipcode['date'].dt.weekofyear\n",
        "\n",
        "# Create a new column for the day of the month\n",
        "crime_by_date_zipcode['day_of_month'] = crime_by_date_zipcode['date'].dt.day\n",
        "\n",
        "# Create a new column for the month of the year\n",
        "crime_by_date_zipcode['month_of_year'] = crime_by_date_zipcode['date'].dt.month\n",
        "\n",
        "# Create a new column for the year\n",
        "crime_by_date_zipcode['year'] = crime_by_date_zipcode['date'].dt.year\n",
        "\n",
        "crime_by_date_zipcode['previous_7_days'] = crime_by_date_zipcode.set_index('date').groupby('zip_code')['dr_no'].rolling(window=\"7D\").count().values"
      ],
      "metadata": {
        "colab": {
          "base_uri": "https://localhost:8080/"
        },
        "id": "CDv2sMdOUqfa",
        "outputId": "a0b2e728-7c0f-44a1-acea-5bce3eff3bda"
      },
      "execution_count": 18,
      "outputs": [
        {
          "output_type": "stream",
          "name": "stderr",
          "text": [
            "<ipython-input-18-0387295c068b>:8: FutureWarning: Series.dt.weekofyear and Series.dt.week have been deprecated. Please use Series.dt.isocalendar().week instead.\n",
            "  crime_by_date_zipcode['week_of_year'] = crime_by_date_zipcode['date'].dt.weekofyear\n"
          ]
        }
      ]
    },
    {
      "cell_type": "code",
      "source": [
        "zip_crime_df = crime_by_date_zipcode.groupby('zip_code')['previous_7_days'].mean().reset_index()\n",
        "zip_crime_map = {k:v for k,v in zip(zip_crime_df['zip_code'], zip_crime_df['previous_7_days'])}\n",
        "crime_by_date_zipcode['zipcode_avg'] = crime_by_date_zipcode.zip_code.map(lambda x: zip_crime_map[x])"
      ],
      "metadata": {
        "id": "wbuqvz-8VL0Q"
      },
      "execution_count": 21,
      "outputs": []
    },
    {
      "cell_type": "code",
      "source": [
        "OUTPUT_COLUMN = 'previous_7_days'\n",
        "INPUT_COLUMNS = ['day_of_week', 'week_of_year', 'day_of_month', 'month_of_year', 'year', 'zipcode_avg']\n",
        "WINDOW_LENGTH = 30\n",
        "train_data = crime_by_date_zipcode[crime_by_date_zipcode['date'] <= datetime.datetime(2022, 9, 30)][INPUT_COLUMNS + [OUTPUT_COLUMN]]\n",
        "test_data = crime_by_date_zipcode[crime_by_date_zipcode['date'] > datetime.datetime(2022, 9, 30)][INPUT_COLUMNS + [OUTPUT_COLUMN]]\n",
        "scaler = MinMaxScaler(feature_range=(0, 1))\n",
        "scaler.fit(train_data[[OUTPUT_COLUMN]])"
      ],
      "metadata": {
        "colab": {
          "base_uri": "https://localhost:8080/",
          "height": 75
        },
        "id": "uVGQz-82ZCV-",
        "outputId": "3d8f94f3-9072-4670-ec8c-5c4c504920c8"
      },
      "execution_count": 93,
      "outputs": [
        {
          "output_type": "execute_result",
          "data": {
            "text/plain": [
              "MinMaxScaler()"
            ],
            "text/html": [
              "<style>#sk-container-id-6 {color: black;background-color: white;}#sk-container-id-6 pre{padding: 0;}#sk-container-id-6 div.sk-toggleable {background-color: white;}#sk-container-id-6 label.sk-toggleable__label {cursor: pointer;display: block;width: 100%;margin-bottom: 0;padding: 0.3em;box-sizing: border-box;text-align: center;}#sk-container-id-6 label.sk-toggleable__label-arrow:before {content: \"▸\";float: left;margin-right: 0.25em;color: #696969;}#sk-container-id-6 label.sk-toggleable__label-arrow:hover:before {color: black;}#sk-container-id-6 div.sk-estimator:hover label.sk-toggleable__label-arrow:before {color: black;}#sk-container-id-6 div.sk-toggleable__content {max-height: 0;max-width: 0;overflow: hidden;text-align: left;background-color: #f0f8ff;}#sk-container-id-6 div.sk-toggleable__content pre {margin: 0.2em;color: black;border-radius: 0.25em;background-color: #f0f8ff;}#sk-container-id-6 input.sk-toggleable__control:checked~div.sk-toggleable__content {max-height: 200px;max-width: 100%;overflow: auto;}#sk-container-id-6 input.sk-toggleable__control:checked~label.sk-toggleable__label-arrow:before {content: \"▾\";}#sk-container-id-6 div.sk-estimator input.sk-toggleable__control:checked~label.sk-toggleable__label {background-color: #d4ebff;}#sk-container-id-6 div.sk-label input.sk-toggleable__control:checked~label.sk-toggleable__label {background-color: #d4ebff;}#sk-container-id-6 input.sk-hidden--visually {border: 0;clip: rect(1px 1px 1px 1px);clip: rect(1px, 1px, 1px, 1px);height: 1px;margin: -1px;overflow: hidden;padding: 0;position: absolute;width: 1px;}#sk-container-id-6 div.sk-estimator {font-family: monospace;background-color: #f0f8ff;border: 1px dotted black;border-radius: 0.25em;box-sizing: border-box;margin-bottom: 0.5em;}#sk-container-id-6 div.sk-estimator:hover {background-color: #d4ebff;}#sk-container-id-6 div.sk-parallel-item::after {content: \"\";width: 100%;border-bottom: 1px solid gray;flex-grow: 1;}#sk-container-id-6 div.sk-label:hover label.sk-toggleable__label {background-color: #d4ebff;}#sk-container-id-6 div.sk-serial::before {content: \"\";position: absolute;border-left: 1px solid gray;box-sizing: border-box;top: 0;bottom: 0;left: 50%;z-index: 0;}#sk-container-id-6 div.sk-serial {display: flex;flex-direction: column;align-items: center;background-color: white;padding-right: 0.2em;padding-left: 0.2em;position: relative;}#sk-container-id-6 div.sk-item {position: relative;z-index: 1;}#sk-container-id-6 div.sk-parallel {display: flex;align-items: stretch;justify-content: center;background-color: white;position: relative;}#sk-container-id-6 div.sk-item::before, #sk-container-id-6 div.sk-parallel-item::before {content: \"\";position: absolute;border-left: 1px solid gray;box-sizing: border-box;top: 0;bottom: 0;left: 50%;z-index: -1;}#sk-container-id-6 div.sk-parallel-item {display: flex;flex-direction: column;z-index: 1;position: relative;background-color: white;}#sk-container-id-6 div.sk-parallel-item:first-child::after {align-self: flex-end;width: 50%;}#sk-container-id-6 div.sk-parallel-item:last-child::after {align-self: flex-start;width: 50%;}#sk-container-id-6 div.sk-parallel-item:only-child::after {width: 0;}#sk-container-id-6 div.sk-dashed-wrapped {border: 1px dashed gray;margin: 0 0.4em 0.5em 0.4em;box-sizing: border-box;padding-bottom: 0.4em;background-color: white;}#sk-container-id-6 div.sk-label label {font-family: monospace;font-weight: bold;display: inline-block;line-height: 1.2em;}#sk-container-id-6 div.sk-label-container {text-align: center;}#sk-container-id-6 div.sk-container {/* jupyter's `normalize.less` sets `[hidden] { display: none; }` but bootstrap.min.css set `[hidden] { display: none !important; }` so we also need the `!important` here to be able to override the default hidden behavior on the sphinx rendered scikit-learn.org. See: https://github.com/scikit-learn/scikit-learn/issues/21755 */display: inline-block !important;position: relative;}#sk-container-id-6 div.sk-text-repr-fallback {display: none;}</style><div id=\"sk-container-id-6\" class=\"sk-top-container\"><div class=\"sk-text-repr-fallback\"><pre>MinMaxScaler()</pre><b>In a Jupyter environment, please rerun this cell to show the HTML representation or trust the notebook. <br />On GitHub, the HTML representation is unable to render, please try loading this page with nbviewer.org.</b></div><div class=\"sk-container\" hidden><div class=\"sk-item\"><div class=\"sk-estimator sk-toggleable\"><input class=\"sk-toggleable__control sk-hidden--visually\" id=\"sk-estimator-id-6\" type=\"checkbox\" checked><label for=\"sk-estimator-id-6\" class=\"sk-toggleable__label sk-toggleable__label-arrow\">MinMaxScaler</label><div class=\"sk-toggleable__content\"><pre>MinMaxScaler()</pre></div></div></div></div></div>"
            ]
          },
          "metadata": {},
          "execution_count": 93
        }
      ]
    },
    {
      "cell_type": "code",
      "source": [
        "def create_dataset(dataset, time_steps=1):\n",
        "    X, Y = [], []\n",
        "    dataset = dataset.to_numpy()\n",
        "    dataset_x = dataset[:,:-1]\n",
        "    dataset_y = scaler.transform(dataset[:,-2:-1])\n",
        "    for i in tqdm.tqdm(range(len(dataset) - time_steps - 1)):\n",
        "        X.append(dataset_x[i:(i + time_steps), :-1])\n",
        "        Y.append(dataset_y[i:(i + time_steps), -1])\n",
        "    return np.array(X), np.array(Y)"
      ],
      "metadata": {
        "id": "wQtIyh9sVOUt"
      },
      "execution_count": 94,
      "outputs": []
    },
    {
      "cell_type": "code",
      "source": [
        "train_X, train_Y = create_dataset(train_data, WINDOW_LENGTH)"
      ],
      "metadata": {
        "colab": {
          "base_uri": "https://localhost:8080/"
        },
        "id": "kJUHGvhEW5tF",
        "outputId": "a3bc69a2-a2f0-4db1-af4c-4897ebf420b9"
      },
      "execution_count": 95,
      "outputs": [
        {
          "output_type": "stream",
          "name": "stderr",
          "text": [
            "/usr/local/lib/python3.9/dist-packages/sklearn/base.py:439: UserWarning: X does not have valid feature names, but MinMaxScaler was fitted with feature names\n",
            "  warnings.warn(\n",
            "100%|██████████| 378290/378290 [00:00<00:00, 916384.15it/s]\n"
          ]
        }
      ]
    },
    {
      "cell_type": "code",
      "source": [
        "test_X, test_Y = create_dataset(test_data, WINDOW_LENGTH)"
      ],
      "metadata": {
        "colab": {
          "base_uri": "https://localhost:8080/"
        },
        "id": "l8D5jNS0bTub",
        "outputId": "4641ca37-3694-42db-efc1-5aa5afe8ff1d"
      },
      "execution_count": 96,
      "outputs": [
        {
          "output_type": "stream",
          "name": "stderr",
          "text": [
            "/usr/local/lib/python3.9/dist-packages/sklearn/base.py:439: UserWarning: X does not have valid feature names, but MinMaxScaler was fitted with feature names\n",
            "  warnings.warn(\n",
            "100%|██████████| 9669/9669 [00:00<00:00, 609680.47it/s]\n"
          ]
        }
      ]
    },
    {
      "cell_type": "code",
      "source": [
        "train_X.shape, train_Y.shape, test_X.shape, test_Y.shape"
      ],
      "metadata": {
        "colab": {
          "base_uri": "https://localhost:8080/"
        },
        "id": "_u1ck-okdShd",
        "outputId": "ea777b1f-9a55-480c-a45f-f152701c742c"
      },
      "execution_count": 97,
      "outputs": [
        {
          "output_type": "execute_result",
          "data": {
            "text/plain": [
              "((378290, 30, 5), (378290, 30), (9669, 30, 5), (9669, 30))"
            ]
          },
          "metadata": {},
          "execution_count": 97
        }
      ]
    },
    {
      "cell_type": "code",
      "source": [
        "# defining model\n",
        "model = Sequential()\n",
        "model.add(LSTM(units=50, return_sequences=True, input_shape=(train_X.shape[1], train_X.shape[2])))\n",
        "model.add(LSTM(units=50, return_sequences=True))\n",
        "model.add(Dense(units=1))"
      ],
      "metadata": {
        "id": "WwPvFqJwbbr_"
      },
      "execution_count": 116,
      "outputs": []
    },
    {
      "cell_type": "code",
      "source": [
        "early_stopping_monitor = EarlyStopping(patience = 10)\n",
        "model.compile(optimizer=Adam(lr=0.001), loss='mean_squared_error')\n",
        "model.fit(train_X, train_Y, validation_split = 0.1, epochs=10, batch_size=64, callbacks=[early_stopping_monitor])"
      ],
      "metadata": {
        "colab": {
          "base_uri": "https://localhost:8080/"
        },
        "id": "ui5WcUfGcOop",
        "outputId": "50f49a94-c8ff-4213-ee3f-1e0c77d78661"
      },
      "execution_count": 117,
      "outputs": [
        {
          "output_type": "stream",
          "name": "stdout",
          "text": [
            "Epoch 1/10\n",
            "5320/5320 [==============================] - 44s 8ms/step - loss: 8.5320e-04 - val_loss: 3.2381e-05\n",
            "Epoch 2/10\n",
            "5320/5320 [==============================] - 39s 7ms/step - loss: 2.7020e-05 - val_loss: 1.6962e-05\n",
            "Epoch 3/10\n",
            "5320/5320 [==============================] - 41s 8ms/step - loss: 2.4986e-05 - val_loss: 1.7012e-05\n",
            "Epoch 4/10\n",
            "5320/5320 [==============================] - 41s 8ms/step - loss: 2.4110e-05 - val_loss: 2.0001e-05\n"
          ]
        },
        {
          "output_type": "execute_result",
          "data": {
            "text/plain": [
              "<keras.callbacks.History at 0x7fdfbddb7070>"
            ]
          },
          "metadata": {},
          "execution_count": 117
        }
      ]
    },
    {
      "cell_type": "code",
      "source": [
        "predictions = model.predict(test_X, batch_size=128)"
      ],
      "metadata": {
        "colab": {
          "base_uri": "https://localhost:8080/"
        },
        "id": "wu9jIKVkeMgI",
        "outputId": "cb68bed3-3096-4c57-d21d-f1ea2203e90d"
      },
      "execution_count": 119,
      "outputs": [
        {
          "output_type": "stream",
          "name": "stdout",
          "text": [
            "76/76 [==============================] - 0s 4ms/step\n"
          ]
        }
      ]
    },
    {
      "cell_type": "code",
      "source": [
        "predictions_inv = scaler.inverse_transform(predictions.reshape((predictions.shape[1] * predictions.shape[0], predictions.shape[2])))\n",
        "test_Y_inv = scaler.inverse_transform(np.expand_dims(test_Y, axis=-1).reshape((test_Y.shape[1] * test_Y.shape[0], 1)))\n",
        "mse = np.mean((predictions_inv - test_Y_inv)**2)\n",
        "print('Root Mean Squared Error:', np.sqrt(mse))"
      ],
      "metadata": {
        "colab": {
          "base_uri": "https://localhost:8080/"
        },
        "id": "iQVNbXLmi-3h",
        "outputId": "6545e143-9b97-4bc6-e7da-d088d4f2071b"
      },
      "execution_count": 120,
      "outputs": [
        {
          "output_type": "stream",
          "name": "stdout",
          "text": [
            "Root Mean Squared Error: 0.02476514068856018\n"
          ]
        }
      ]
    },
    {
      "cell_type": "code",
      "source": [],
      "metadata": {
        "id": "4-kjaZ1DkM3K"
      },
      "execution_count": null,
      "outputs": []
    }
  ]
}