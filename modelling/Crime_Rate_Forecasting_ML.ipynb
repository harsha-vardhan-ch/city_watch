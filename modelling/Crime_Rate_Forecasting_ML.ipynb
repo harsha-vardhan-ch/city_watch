{
  "nbformat": 4,
  "nbformat_minor": 0,
  "metadata": {
    "colab": {
      "provenance": [],
      "mount_file_id": "1bI3rGoCZXKtfiMvy620SHHD3m7cfRWiY",
      "authorship_tag": "ABX9TyPPYf/lIv5B8eo/YzwYKSX1",
      "include_colab_link": true
    },
    "kernelspec": {
      "name": "python3",
      "display_name": "Python 3"
    },
    "language_info": {
      "name": "python"
    }
  },
  "cells": [
    {
      "cell_type": "markdown",
      "metadata": {
        "id": "view-in-github",
        "colab_type": "text"
      },
      "source": [
        "<a href=\"https://colab.research.google.com/github/harshakoneru98/city_watch/blob/main/modelling/Crime_Rate_Forecasting_ML.ipynb\" target=\"_parent\"><img src=\"https://colab.research.google.com/assets/colab-badge.svg\" alt=\"Open In Colab\"/></a>"
      ]
    },
    {
      "cell_type": "code",
      "execution_count": null,
      "metadata": {
        "id": "K5Yejka8ml9o"
      },
      "outputs": [],
      "source": [
        "import pandas as pd\n",
        "import json\n",
        "import tqdm\n",
        "import seaborn as sns\n",
        "import numpy as np\n",
        "from statsmodels.tsa.arima.model import ARIMA\n",
        "from sklearn.ensemble import RandomForestRegressor\n",
        "from sklearn.svm import SVR\n",
        "from sklearn.metrics import mean_squared_error\n",
        "from matplotlib import pyplot as plt\n",
        "import datetime\n",
        "from sklearn.ensemble import GradientBoostingRegressor\n",
        "ROOT_PATH = \"/content/drive/MyDrive/DSCI 560/Datasets/Cleaned_data/\""
      ]
    },
    {
      "cell_type": "code",
      "source": [
        "crimes = pd.read_csv(f\"{ROOT_PATH}/crime_date_aligned.csv\")"
      ],
      "metadata": {
        "id": "FzVJWvZwplCr"
      },
      "execution_count": null,
      "outputs": []
    },
    {
      "cell_type": "code",
      "source": [
        "crime_by_date_zipcode = crimes.groupby([\"date_occ\", \"zip_code\"]).agg({ \"dr_no\": \"count\"}).reset_index()"
      ],
      "metadata": {
        "id": "AyoHDtOAqyoL"
      },
      "execution_count": null,
      "outputs": []
    },
    {
      "cell_type": "code",
      "source": [
        "import pandas as pd\n",
        "\n",
        "# Convert the 'date' column to datetime format\n",
        "crime_by_date_zipcode['date'] = pd.to_datetime(crime_by_date_zipcode['date_occ'])\n",
        "\n",
        "# Create a new column for the day of the week\n",
        "crime_by_date_zipcode['day_of_week'] = crime_by_date_zipcode['date'].dt.dayofweek\n",
        "\n",
        "# Create a new column for the week of the year\n",
        "crime_by_date_zipcode['week_of_year'] = crime_by_date_zipcode['date'].dt.weekofyear\n",
        "\n",
        "# Create a new column for the day of the month\n",
        "crime_by_date_zipcode['day_of_month'] = crime_by_date_zipcode['date'].dt.day\n",
        "\n",
        "# Create a new column for the month of the year\n",
        "crime_by_date_zipcode['month_of_year'] = crime_by_date_zipcode['date'].dt.month\n",
        "\n",
        "# Create a new column for the year\n",
        "crime_by_date_zipcode['year'] = crime_by_date_zipcode['date'].dt.year\n",
        "\n",
        "# Define the date offset for the rolling window\n",
        "\n",
        "# Create a rolling window for the previous 7 days of crimes\n",
        "crime_by_date_zipcode['previous_7_days'] = crime_by_date_zipcode.set_index('date').groupby('zip_code')['dr_no'].rolling(window=\"7D\").count().values\n",
        "crime_by_date_zipcode['previous_14_days'] = crime_by_date_zipcode.set_index('date').groupby('zip_code')['dr_no'].rolling(window=\"14D\").count().values\n",
        "crime_by_date_zipcode['previous_28_days'] = crime_by_date_zipcode.set_index('date').groupby('zip_code')['dr_no'].rolling(window=\"28D\").count().values\n",
        "# Define the date offset for the exponential moving average window\n",
        "ema_date_offset = pd.DateOffset(days=1)\n",
        "\n",
        "# Create exponential moving averages for the previous 7 days of crimes\n",
        "crime_by_date_zipcode['ema_7_days'] = crime_by_date_zipcode.set_index('date').groupby('zip_code')['dr_no'].ewm(span=7, min_periods=1).mean().values\n",
        "crime_by_date_zipcode['ema_14_days'] = crime_by_date_zipcode.set_index('date').groupby('zip_code')['dr_no'].ewm(span=14, min_periods=1).mean().values\n",
        "crime_by_date_zipcode['ema_28_days'] = crime_by_date_zipcode.set_index('date').groupby('zip_code')['dr_no'].ewm(span=28, min_periods=1).mean().values\n",
        "\n",
        "# Create difference features for the rolling window and exponential moving average\n",
        "crime_by_date_zipcode['diff_7_days'] = crime_by_date_zipcode.groupby('zip_code')['previous_7_days'].diff()\n",
        "crime_by_date_zipcode['diff_ema_7_days'] = crime_by_date_zipcode.groupby('zip_code')['ema_7_days'].diff()\n",
        "crime_by_date_zipcode['diff_14_days'] = crime_by_date_zipcode.groupby('zip_code')['previous_14_days'].diff()\n",
        "crime_by_date_zipcode['diff_ema_14_days'] = crime_by_date_zipcode.groupby('zip_code')['ema_14_days'].diff()\n",
        "crime_by_date_zipcode['diff_28_days'] = crime_by_date_zipcode.groupby('zip_code')['previous_14_days'].diff()\n",
        "crime_by_date_zipcode['diff_ema_28_days'] = crime_by_date_zipcode.groupby('zip_code')['ema_14_days'].diff()\n",
        "\n",
        "# Drop any rows that have NaN values (i.e. the first 7 rows)\n",
        "crime_by_date_zipcode = crime_by_date_zipcode.dropna()"
      ],
      "metadata": {
        "colab": {
          "base_uri": "https://localhost:8080/"
        },
        "id": "dx0gBOiSrM_1",
        "outputId": "9ca86b09-d79e-454d-eecc-6302ae0173f0"
      },
      "execution_count": null,
      "outputs": [
        {
          "output_type": "stream",
          "name": "stderr",
          "text": [
            "<ipython-input-4-7d14808f840d>:10: FutureWarning: Series.dt.weekofyear and Series.dt.week have been deprecated. Please use Series.dt.isocalendar().week instead.\n",
            "  crime_by_date_zipcode['week_of_year'] = crime_by_date_zipcode['date'].dt.weekofyear\n"
          ]
        }
      ]
    },
    {
      "cell_type": "code",
      "source": [
        "crime_by_date_zipcode.head(5)"
      ],
      "metadata": {
        "colab": {
          "base_uri": "https://localhost:8080/",
          "height": 386
        },
        "id": "2qepYwGS7yNs",
        "outputId": "d8b87aeb-fbf0-4b90-de35-a2a8a9bba034"
      },
      "execution_count": null,
      "outputs": [
        {
          "output_type": "execute_result",
          "data": {
            "text/plain": [
              "       date_occ  zip_code  dr_no       date  day_of_week  week_of_year  \\\n",
              "105  2013-01-03     90001      1 2013-01-03            3             1   \n",
              "106  2013-01-03     90002      3 2013-01-03            3             1   \n",
              "107  2013-01-03     90003      8 2013-01-03            3             1   \n",
              "108  2013-01-03     90004      3 2013-01-03            3             1   \n",
              "109  2013-01-03     90005     12 2013-01-03            3             1   \n",
              "\n",
              "     day_of_month  month_of_year  year  previous_7_days  ...  \\\n",
              "105             3              1  2013              2.0  ...   \n",
              "106             3              1  2013              1.0  ...   \n",
              "107             3              1  2013              1.0  ...   \n",
              "108             3              1  2013              1.0  ...   \n",
              "109             3              1  2013              2.0  ...   \n",
              "\n",
              "     previous_28_days  ema_7_days  ema_14_days  ema_28_days  diff_7_days  \\\n",
              "105               6.0    1.160465     1.186353     1.205572          1.0   \n",
              "106               2.0    1.120349     1.161506     1.191387         -1.0   \n",
              "107               2.0    1.090261     1.139972     1.178182         -2.0   \n",
              "108               2.0    1.067696     1.121309     1.165889          0.0   \n",
              "109               3.0    1.050772     1.105134     1.154444          0.0   \n",
              "\n",
              "     diff_ema_7_days  diff_14_days  diff_ema_14_days  diff_28_days  \\\n",
              "105        -0.839535           1.0         -0.813647           1.0   \n",
              "106        -0.308223          -1.0         -0.302780          -1.0   \n",
              "107        -0.152982          -2.0         -0.146955          -2.0   \n",
              "108        -0.086590           0.0         -0.077839           0.0   \n",
              "109        -0.052941           1.0         -0.042056           1.0   \n",
              "\n",
              "     diff_ema_28_days  \n",
              "105         -0.813647  \n",
              "106         -0.302780  \n",
              "107         -0.146955  \n",
              "108         -0.077839  \n",
              "109         -0.042056  \n",
              "\n",
              "[5 rows x 21 columns]"
            ],
            "text/html": [
              "\n",
              "  <div id=\"df-3afb1333-e768-4611-a234-73a327709efc\">\n",
              "    <div class=\"colab-df-container\">\n",
              "      <div>\n",
              "<style scoped>\n",
              "    .dataframe tbody tr th:only-of-type {\n",
              "        vertical-align: middle;\n",
              "    }\n",
              "\n",
              "    .dataframe tbody tr th {\n",
              "        vertical-align: top;\n",
              "    }\n",
              "\n",
              "    .dataframe thead th {\n",
              "        text-align: right;\n",
              "    }\n",
              "</style>\n",
              "<table border=\"1\" class=\"dataframe\">\n",
              "  <thead>\n",
              "    <tr style=\"text-align: right;\">\n",
              "      <th></th>\n",
              "      <th>date_occ</th>\n",
              "      <th>zip_code</th>\n",
              "      <th>dr_no</th>\n",
              "      <th>date</th>\n",
              "      <th>day_of_week</th>\n",
              "      <th>week_of_year</th>\n",
              "      <th>day_of_month</th>\n",
              "      <th>month_of_year</th>\n",
              "      <th>year</th>\n",
              "      <th>previous_7_days</th>\n",
              "      <th>...</th>\n",
              "      <th>previous_28_days</th>\n",
              "      <th>ema_7_days</th>\n",
              "      <th>ema_14_days</th>\n",
              "      <th>ema_28_days</th>\n",
              "      <th>diff_7_days</th>\n",
              "      <th>diff_ema_7_days</th>\n",
              "      <th>diff_14_days</th>\n",
              "      <th>diff_ema_14_days</th>\n",
              "      <th>diff_28_days</th>\n",
              "      <th>diff_ema_28_days</th>\n",
              "    </tr>\n",
              "  </thead>\n",
              "  <tbody>\n",
              "    <tr>\n",
              "      <th>105</th>\n",
              "      <td>2013-01-03</td>\n",
              "      <td>90001</td>\n",
              "      <td>1</td>\n",
              "      <td>2013-01-03</td>\n",
              "      <td>3</td>\n",
              "      <td>1</td>\n",
              "      <td>3</td>\n",
              "      <td>1</td>\n",
              "      <td>2013</td>\n",
              "      <td>2.0</td>\n",
              "      <td>...</td>\n",
              "      <td>6.0</td>\n",
              "      <td>1.160465</td>\n",
              "      <td>1.186353</td>\n",
              "      <td>1.205572</td>\n",
              "      <td>1.0</td>\n",
              "      <td>-0.839535</td>\n",
              "      <td>1.0</td>\n",
              "      <td>-0.813647</td>\n",
              "      <td>1.0</td>\n",
              "      <td>-0.813647</td>\n",
              "    </tr>\n",
              "    <tr>\n",
              "      <th>106</th>\n",
              "      <td>2013-01-03</td>\n",
              "      <td>90002</td>\n",
              "      <td>3</td>\n",
              "      <td>2013-01-03</td>\n",
              "      <td>3</td>\n",
              "      <td>1</td>\n",
              "      <td>3</td>\n",
              "      <td>1</td>\n",
              "      <td>2013</td>\n",
              "      <td>1.0</td>\n",
              "      <td>...</td>\n",
              "      <td>2.0</td>\n",
              "      <td>1.120349</td>\n",
              "      <td>1.161506</td>\n",
              "      <td>1.191387</td>\n",
              "      <td>-1.0</td>\n",
              "      <td>-0.308223</td>\n",
              "      <td>-1.0</td>\n",
              "      <td>-0.302780</td>\n",
              "      <td>-1.0</td>\n",
              "      <td>-0.302780</td>\n",
              "    </tr>\n",
              "    <tr>\n",
              "      <th>107</th>\n",
              "      <td>2013-01-03</td>\n",
              "      <td>90003</td>\n",
              "      <td>8</td>\n",
              "      <td>2013-01-03</td>\n",
              "      <td>3</td>\n",
              "      <td>1</td>\n",
              "      <td>3</td>\n",
              "      <td>1</td>\n",
              "      <td>2013</td>\n",
              "      <td>1.0</td>\n",
              "      <td>...</td>\n",
              "      <td>2.0</td>\n",
              "      <td>1.090261</td>\n",
              "      <td>1.139972</td>\n",
              "      <td>1.178182</td>\n",
              "      <td>-2.0</td>\n",
              "      <td>-0.152982</td>\n",
              "      <td>-2.0</td>\n",
              "      <td>-0.146955</td>\n",
              "      <td>-2.0</td>\n",
              "      <td>-0.146955</td>\n",
              "    </tr>\n",
              "    <tr>\n",
              "      <th>108</th>\n",
              "      <td>2013-01-03</td>\n",
              "      <td>90004</td>\n",
              "      <td>3</td>\n",
              "      <td>2013-01-03</td>\n",
              "      <td>3</td>\n",
              "      <td>1</td>\n",
              "      <td>3</td>\n",
              "      <td>1</td>\n",
              "      <td>2013</td>\n",
              "      <td>1.0</td>\n",
              "      <td>...</td>\n",
              "      <td>2.0</td>\n",
              "      <td>1.067696</td>\n",
              "      <td>1.121309</td>\n",
              "      <td>1.165889</td>\n",
              "      <td>0.0</td>\n",
              "      <td>-0.086590</td>\n",
              "      <td>0.0</td>\n",
              "      <td>-0.077839</td>\n",
              "      <td>0.0</td>\n",
              "      <td>-0.077839</td>\n",
              "    </tr>\n",
              "    <tr>\n",
              "      <th>109</th>\n",
              "      <td>2013-01-03</td>\n",
              "      <td>90005</td>\n",
              "      <td>12</td>\n",
              "      <td>2013-01-03</td>\n",
              "      <td>3</td>\n",
              "      <td>1</td>\n",
              "      <td>3</td>\n",
              "      <td>1</td>\n",
              "      <td>2013</td>\n",
              "      <td>2.0</td>\n",
              "      <td>...</td>\n",
              "      <td>3.0</td>\n",
              "      <td>1.050772</td>\n",
              "      <td>1.105134</td>\n",
              "      <td>1.154444</td>\n",
              "      <td>0.0</td>\n",
              "      <td>-0.052941</td>\n",
              "      <td>1.0</td>\n",
              "      <td>-0.042056</td>\n",
              "      <td>1.0</td>\n",
              "      <td>-0.042056</td>\n",
              "    </tr>\n",
              "  </tbody>\n",
              "</table>\n",
              "<p>5 rows × 21 columns</p>\n",
              "</div>\n",
              "      <button class=\"colab-df-convert\" onclick=\"convertToInteractive('df-3afb1333-e768-4611-a234-73a327709efc')\"\n",
              "              title=\"Convert this dataframe to an interactive table.\"\n",
              "              style=\"display:none;\">\n",
              "        \n",
              "  <svg xmlns=\"http://www.w3.org/2000/svg\" height=\"24px\"viewBox=\"0 0 24 24\"\n",
              "       width=\"24px\">\n",
              "    <path d=\"M0 0h24v24H0V0z\" fill=\"none\"/>\n",
              "    <path d=\"M18.56 5.44l.94 2.06.94-2.06 2.06-.94-2.06-.94-.94-2.06-.94 2.06-2.06.94zm-11 1L8.5 8.5l.94-2.06 2.06-.94-2.06-.94L8.5 2.5l-.94 2.06-2.06.94zm10 10l.94 2.06.94-2.06 2.06-.94-2.06-.94-.94-2.06-.94 2.06-2.06.94z\"/><path d=\"M17.41 7.96l-1.37-1.37c-.4-.4-.92-.59-1.43-.59-.52 0-1.04.2-1.43.59L10.3 9.45l-7.72 7.72c-.78.78-.78 2.05 0 2.83L4 21.41c.39.39.9.59 1.41.59.51 0 1.02-.2 1.41-.59l7.78-7.78 2.81-2.81c.8-.78.8-2.07 0-2.86zM5.41 20L4 18.59l7.72-7.72 1.47 1.35L5.41 20z\"/>\n",
              "  </svg>\n",
              "      </button>\n",
              "      \n",
              "  <style>\n",
              "    .colab-df-container {\n",
              "      display:flex;\n",
              "      flex-wrap:wrap;\n",
              "      gap: 12px;\n",
              "    }\n",
              "\n",
              "    .colab-df-convert {\n",
              "      background-color: #E8F0FE;\n",
              "      border: none;\n",
              "      border-radius: 50%;\n",
              "      cursor: pointer;\n",
              "      display: none;\n",
              "      fill: #1967D2;\n",
              "      height: 32px;\n",
              "      padding: 0 0 0 0;\n",
              "      width: 32px;\n",
              "    }\n",
              "\n",
              "    .colab-df-convert:hover {\n",
              "      background-color: #E2EBFA;\n",
              "      box-shadow: 0px 1px 2px rgba(60, 64, 67, 0.3), 0px 1px 3px 1px rgba(60, 64, 67, 0.15);\n",
              "      fill: #174EA6;\n",
              "    }\n",
              "\n",
              "    [theme=dark] .colab-df-convert {\n",
              "      background-color: #3B4455;\n",
              "      fill: #D2E3FC;\n",
              "    }\n",
              "\n",
              "    [theme=dark] .colab-df-convert:hover {\n",
              "      background-color: #434B5C;\n",
              "      box-shadow: 0px 1px 3px 1px rgba(0, 0, 0, 0.15);\n",
              "      filter: drop-shadow(0px 1px 2px rgba(0, 0, 0, 0.3));\n",
              "      fill: #FFFFFF;\n",
              "    }\n",
              "  </style>\n",
              "\n",
              "      <script>\n",
              "        const buttonEl =\n",
              "          document.querySelector('#df-3afb1333-e768-4611-a234-73a327709efc button.colab-df-convert');\n",
              "        buttonEl.style.display =\n",
              "          google.colab.kernel.accessAllowed ? 'block' : 'none';\n",
              "\n",
              "        async function convertToInteractive(key) {\n",
              "          const element = document.querySelector('#df-3afb1333-e768-4611-a234-73a327709efc');\n",
              "          const dataTable =\n",
              "            await google.colab.kernel.invokeFunction('convertToInteractive',\n",
              "                                                     [key], {});\n",
              "          if (!dataTable) return;\n",
              "\n",
              "          const docLinkHtml = 'Like what you see? Visit the ' +\n",
              "            '<a target=\"_blank\" href=https://colab.research.google.com/notebooks/data_table.ipynb>data table notebook</a>'\n",
              "            + ' to learn more about interactive tables.';\n",
              "          element.innerHTML = '';\n",
              "          dataTable['output_type'] = 'display_data';\n",
              "          await google.colab.output.renderOutput(dataTable, element);\n",
              "          const docLink = document.createElement('div');\n",
              "          docLink.innerHTML = docLinkHtml;\n",
              "          element.appendChild(docLink);\n",
              "        }\n",
              "      </script>\n",
              "    </div>\n",
              "  </div>\n",
              "  "
            ]
          },
          "metadata": {},
          "execution_count": 5
        }
      ]
    },
    {
      "cell_type": "code",
      "source": [
        "train_data = crime_by_date_zipcode[crime_by_date_zipcode['date'] <= datetime.datetime(2022, 9, 30)]\n",
        "test_data = crime_by_date_zipcode[crime_by_date_zipcode['date'] > datetime.datetime(2022, 9, 30)]\n",
        "IGNORED_COLUMNS = ['date', 'zip_code', 'date_occ']\n",
        "input_columns = [x for x in train_data.columns if x not in IGNORED_COLUMNS + ['diff_7_days']]\n",
        "train_X = train_data[input_columns]\n",
        "train_Y = train_data['diff_7_days']\n",
        "test_X = test_data[input_columns]\n",
        "test_Y = test_data['diff_7_days']"
      ],
      "metadata": {
        "id": "xjVw2LIN44Dm"
      },
      "execution_count": null,
      "outputs": []
    },
    {
      "cell_type": "code",
      "source": [
        "# univariate ARIMA\n",
        "# Fit the ARIMA model\n",
        "model = ARIMA(train_Y, order=(1, 0, 0))\n",
        "model_fit = model.fit()\n",
        "\n",
        "# Make predictions for the test set\n",
        "predictions = model_fit.forecast(steps=len(test_Y))\n",
        "\n",
        "# Calculate the mean squared error of the predictions\n",
        "mse = mean_squared_error(test_Y, predictions)\n",
        "\n",
        "print('Root Mean Squared Error:', np.sqrt(mse))"
      ],
      "metadata": {
        "colab": {
          "base_uri": "https://localhost:8080/"
        },
        "id": "B0Ijuu8erOke",
        "outputId": "7ae761fb-c725-4b15-c997-3aa251eef61b"
      },
      "execution_count": null,
      "outputs": [
        {
          "output_type": "stream",
          "name": "stderr",
          "text": [
            "/usr/local/lib/python3.9/dist-packages/statsmodels/tsa/base/tsa_model.py:471: ValueWarning: An unsupported index was provided and will be ignored when e.g. forecasting.\n",
            "  self._init_dates(dates, freq)\n",
            "/usr/local/lib/python3.9/dist-packages/statsmodels/tsa/base/tsa_model.py:471: ValueWarning: An unsupported index was provided and will be ignored when e.g. forecasting.\n",
            "  self._init_dates(dates, freq)\n",
            "/usr/local/lib/python3.9/dist-packages/statsmodels/tsa/base/tsa_model.py:471: ValueWarning: An unsupported index was provided and will be ignored when e.g. forecasting.\n",
            "  self._init_dates(dates, freq)\n",
            "/usr/local/lib/python3.9/dist-packages/statsmodels/tsa/base/tsa_model.py:834: ValueWarning: No supported index is available. Prediction results will be given with an integer index beginning at `start`.\n",
            "  return get_prediction_index(\n"
          ]
        },
        {
          "output_type": "stream",
          "name": "stdout",
          "text": [
            "Root Mean Squared Error: 1.180917526221279\n"
          ]
        }
      ]
    },
    {
      "cell_type": "code",
      "source": [
        "# Random Forest Regressor model\n",
        "model = RandomForestRegressor(n_estimators=100, random_state=42)\n",
        "\n",
        "# Fit the model to the training data\n",
        "model.fit(train_X, train_Y)\n",
        "\n",
        "# Generate predictions on the test data\n",
        "predictions = model.predict(test_X)\n",
        "\n",
        "# Calculate the root mean squared error of the predictions\n",
        "rmse = np.sqrt(mean_squared_error(predictions, test_Y))\n",
        "print(\"Root Mean Squared Error\", rmse)"
      ],
      "metadata": {
        "colab": {
          "base_uri": "https://localhost:8080/"
        },
        "id": "aNEOqMAP8iEc",
        "outputId": "21625f7a-d6e5-433b-9f7f-721b1d5066b7"
      },
      "execution_count": null,
      "outputs": [
        {
          "output_type": "stream",
          "name": "stdout",
          "text": [
            "Root Mean Squared Error 0.5381362836622471\n"
          ]
        }
      ]
    },
    {
      "cell_type": "code",
      "source": [
        "# Define the SVM Regressor model\n",
        "model = SVR(kernel='rbf', C=10, gamma=0.1)\n",
        "\n",
        "# Fit the model to the training data\n",
        "model.fit(train_X, train_Y)\n",
        "\n",
        "# Generate predictions on the test data\n",
        "predictions = model.predict(test_X)\n",
        "\n",
        "# Calculate the root mean squared error of the predictions\n",
        "rmse = np.sqrt(mean_squared_error(predictions, test_Y))\n",
        "print(f'RMSE: {rmse}')"
      ],
      "metadata": {
        "id": "TORxZ9yH9SvR",
        "colab": {
          "base_uri": "https://localhost:8080/"
        },
        "outputId": "3967cd91-faa0-4531-8357-f93a9b278bab"
      },
      "execution_count": null,
      "outputs": [
        {
          "output_type": "stream",
          "name": "stdout",
          "text": [
            "RMSE: 0.4747822271448964\n"
          ]
        }
      ]
    },
    {
      "cell_type": "code",
      "source": [
        "# gradient boosting\n",
        "# Define the Gradient Boosting Regressor model\n",
        "model = GradientBoostingRegressor(n_estimators=100, learning_rate=0.1, max_depth=3, random_state=42)\n",
        "\n",
        "# Fit the model to the training data\n",
        "model.fit(train_X, train_Y)\n",
        "\n",
        "# Generate predictions on the test data\n",
        "predictions = model.predict(test_X)\n",
        "\n",
        "# Calculate the root mean squared error of the predictions\n",
        "rmse = np.sqrt(mean_squared_error(predictions, test_Y))\n",
        "print(f'RMSE: {rmse}')\n"
      ],
      "metadata": {
        "id": "ftAk8rfwCiJS",
        "colab": {
          "base_uri": "https://localhost:8080/"
        },
        "outputId": "75c8f2d5-7be7-4f33-93bf-d3b5421c85ee"
      },
      "execution_count": null,
      "outputs": [
        {
          "output_type": "stream",
          "name": "stdout",
          "text": [
            "RMSE: 0.5214326891172795\n"
          ]
        }
      ]
    },
    {
      "cell_type": "code",
      "source": [],
      "metadata": {
        "id": "SJPo-7hB-buD"
      },
      "execution_count": null,
      "outputs": []
    },
    {
      "cell_type": "code",
      "source": [],
      "metadata": {
        "id": "tblKoXnx9quo"
      },
      "execution_count": null,
      "outputs": []
    }
  ]
}